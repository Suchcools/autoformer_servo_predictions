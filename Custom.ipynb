{
 "cells": [
  {
   "cell_type": "code",
   "execution_count": 1,
   "metadata": {},
   "outputs": [
    {
     "name": "stdout",
     "output_type": "stream",
     "text": [
      "torch.Size([24, 1, 3])\n"
     ]
    },
    {
     "data": {
      "text/html": [
       "<div>\n",
       "<style scoped>\n",
       "    .dataframe tbody tr th:only-of-type {\n",
       "        vertical-align: middle;\n",
       "    }\n",
       "\n",
       "    .dataframe tbody tr th {\n",
       "        vertical-align: top;\n",
       "    }\n",
       "\n",
       "    .dataframe thead th {\n",
       "        text-align: right;\n",
       "    }\n",
       "</style>\n",
       "<table border=\"1\" class=\"dataframe\">\n",
       "  <thead>\n",
       "    <tr style=\"text-align: right;\">\n",
       "      <th></th>\n",
       "      <th>x</th>\n",
       "      <th>y</th>\n",
       "      <th>z</th>\n",
       "    </tr>\n",
       "  </thead>\n",
       "  <tbody>\n",
       "    <tr>\n",
       "      <th>0</th>\n",
       "      <td>-0.506642</td>\n",
       "      <td>-0.329160</td>\n",
       "      <td>0.034070</td>\n",
       "    </tr>\n",
       "    <tr>\n",
       "      <th>1</th>\n",
       "      <td>-0.506122</td>\n",
       "      <td>-0.329210</td>\n",
       "      <td>0.034022</td>\n",
       "    </tr>\n",
       "    <tr>\n",
       "      <th>2</th>\n",
       "      <td>-0.505602</td>\n",
       "      <td>-0.329259</td>\n",
       "      <td>0.033942</td>\n",
       "    </tr>\n",
       "    <tr>\n",
       "      <th>3</th>\n",
       "      <td>-0.505082</td>\n",
       "      <td>-0.329308</td>\n",
       "      <td>0.033831</td>\n",
       "    </tr>\n",
       "    <tr>\n",
       "      <th>4</th>\n",
       "      <td>-0.504562</td>\n",
       "      <td>-0.329358</td>\n",
       "      <td>0.033687</td>\n",
       "    </tr>\n",
       "    <tr>\n",
       "      <th>...</th>\n",
       "      <td>...</td>\n",
       "      <td>...</td>\n",
       "      <td>...</td>\n",
       "    </tr>\n",
       "    <tr>\n",
       "      <th>4994</th>\n",
       "      <td>-0.484190</td>\n",
       "      <td>-0.360386</td>\n",
       "      <td>0.360170</td>\n",
       "    </tr>\n",
       "    <tr>\n",
       "      <th>4995</th>\n",
       "      <td>-0.484148</td>\n",
       "      <td>-0.360396</td>\n",
       "      <td>0.354604</td>\n",
       "    </tr>\n",
       "    <tr>\n",
       "      <th>4996</th>\n",
       "      <td>-0.484106</td>\n",
       "      <td>-0.360406</td>\n",
       "      <td>0.349014</td>\n",
       "    </tr>\n",
       "    <tr>\n",
       "      <th>4997</th>\n",
       "      <td>-0.484063</td>\n",
       "      <td>-0.360416</td>\n",
       "      <td>0.343401</td>\n",
       "    </tr>\n",
       "    <tr>\n",
       "      <th>4998</th>\n",
       "      <td>-0.484021</td>\n",
       "      <td>-0.360426</td>\n",
       "      <td>0.337765</td>\n",
       "    </tr>\n",
       "  </tbody>\n",
       "</table>\n",
       "<p>4999 rows × 3 columns</p>\n",
       "</div>"
      ],
      "text/plain": [
       "             x         y         z\n",
       "0    -0.506642 -0.329160  0.034070\n",
       "1    -0.506122 -0.329210  0.034022\n",
       "2    -0.505602 -0.329259  0.033942\n",
       "3    -0.505082 -0.329308  0.033831\n",
       "4    -0.504562 -0.329358  0.033687\n",
       "...        ...       ...       ...\n",
       "4994 -0.484190 -0.360386  0.360170\n",
       "4995 -0.484148 -0.360396  0.354604\n",
       "4996 -0.484106 -0.360406  0.349014\n",
       "4997 -0.484063 -0.360416  0.343401\n",
       "4998 -0.484021 -0.360426  0.337765\n",
       "\n",
       "[4999 rows x 3 columns]"
      ]
     },
     "execution_count": 1,
     "metadata": {},
     "output_type": "execute_result"
    }
   ],
   "source": [
    "import pandas as pd\n",
    "import matplotlib.pyplot as plt\n",
    "import torch.nn as nn\n",
    "import torch\n",
    "import time\n",
    "import numpy as np\n",
    "import random\n",
    "from model import LSTM\n",
    "from torch.utils.data.dataset import Dataset\n",
    "from torch.utils.data.dataloader import DataLoader\n",
    "### 0.0053 loss\n",
    "data = pd.read_csv(\"trajectory_total.csv\").iloc[:, [0, 1, 2]]\n",
    "data.columns=['x','y','z']\n",
    "data=(data-data.mean())/data.std() #归一化  \n",
    "data"
   ]
  },
  {
   "attachments": {},
   "cell_type": "markdown",
   "metadata": {},
   "source": [
    "### 制作DataLoader"
   ]
  },
  {
   "cell_type": "code",
   "execution_count": 2,
   "metadata": {},
   "outputs": [
    {
     "name": "stdout",
     "output_type": "stream",
     "text": [
      "torch.Size([24, 3, 3]) torch.Size([24, 1, 3])\n"
     ]
    }
   ],
   "source": [
    "time_step=3 #时间间隔\n",
    "batch_size=12 #批次数\n",
    "class MyDataset(Dataset):\n",
    "    def __init__(self,data,time_step):\n",
    "        self.data=data\n",
    "        self.time_step=time_step\n",
    "    def __len__(self):\n",
    "        return len(data)-self.time_step-1\n",
    "    def __getitem__(self, idx):\n",
    "        return np.array(data.iloc[idx:idx+self.time_step].values,dtype=np.float32),np.array(data.iloc[idx+self.time_step].values.reshape(-1,3),dtype=np.float32)\n",
    "dataset=MyDataset(data,time_step=3)\n",
    "train_index = list(range(int(len(data)*0.8)))\n",
    "test_index = list(range(int(len(data)*0.8),int(len(data)-time_step-1)))\n",
    "random.shuffle(train_index)\n",
    "random.shuffle(test_index)\n",
    "train_loader = DataLoader(dataset=dataset, batch_size=batch_size,drop_last=True,sampler=train_index)\n",
    "test_loader = DataLoader(dataset=dataset, batch_size=batch_size,drop_last=True,sampler=test_index)\n",
    "#输出示范\n",
    "for xx,yy in train_loader:\n",
    "    print(xx.shape,yy.shape)\n",
    "    break"
   ]
  },
  {
   "cell_type": "code",
   "execution_count": 3,
   "metadata": {},
   "outputs": [],
   "source": [
    "device = torch.device(\"cuda:0\" if torch.cuda.is_available() else \"cpu\")\n",
    "\n",
    "def kf_predict(P0, A, Q):\n",
    "    P10 = np.dot(np.dot(A, P0), A.T) + Q\n",
    "    return P10\n",
    "\n",
    "\n",
    "def kf_update(Xpred, P10, Z, H, R):\n",
    "    V = Z - np.dot(H, Xpred)\n",
    "    K = np.dot(np.dot(P10, H.T), np.linalg.pinv(np.dot(np.dot(H, P10), H.T) + R))\n",
    "    X1 = Xpred + np.dot(K, V)\n",
    "    P1 = np.dot(np.eye(K.shape[0]) - np.dot(K, H), P10)\n",
    "    return (X1, P1, K)\n",
    "\n",
    "nx = 1 #变量数量\n",
    "# t = np.linspace(0,1,p) #时间序列\n",
    "# dt = t[1] - t[0]\n",
    "\n",
    "# 观测噪声协方差！！！！！！！！！！！！！！！！！！！！（可调整）\n",
    "R = np.diag([0.1])\n",
    "\n",
    "# # 观测值\n",
    "# e = np.random.normal(0, 2, p)\n",
    "# x_obs1 =test_data[:,0]+e\n",
    "# x_obs2 =test_data[:,1]+e\n",
    "# x_obs3 =test_data[:,2]+e\n",
    "\n",
    "# 计算系数\n",
    "A = np.array(1).reshape([nx, nx])\n",
    "\n",
    "# 状态假设（观测）初始值\n",
    "x0 = 8121.800180018\n",
    "y0 = 101.79990334948\n",
    "z0 = 143.252015974529\n",
    "X0 = np.array(x0).reshape(nx, 1)\n",
    "Y0 = np.array(y0).reshape(nx, 1)\n",
    "Z0 = np.array(z0).reshape(nx, 1)\n",
    "\n",
    "# 初始状态不确定度！！！！！！！！！！！！！！！！（可调整）\n",
    "P0 = np.diag([0.1])\n",
    "\n",
    "# 状态递推噪声协方差！！！！！！！！！！！！！！！！！！（可调整）\n",
    "Q = np.diag([0.1])\n",
    "\n",
    "###开始处理\n",
    "X1_np = np.copy(X0)\n",
    "X2_np = np.copy(Y0)\n",
    "X3_np = np.copy(Z0)\n",
    "P1_list = [P0]\n",
    "P10_list = [P0]"
   ]
  },
  {
   "cell_type": "code",
   "execution_count": 4,
   "metadata": {},
   "outputs": [],
   "source": [
    "hidden_size = 64\n",
    "num_layers = 2\n",
    "output_size = 1"
   ]
  },
  {
   "cell_type": "code",
   "execution_count": 5,
   "metadata": {},
   "outputs": [
    {
     "name": "stderr",
     "output_type": "stream",
     "text": [
      "c:\\Users\\Suchcool\\.conda\\envs\\torch\\lib\\site-packages\\torch\\nn\\_reduction.py:42: UserWarning: size_average and reduce args will be deprecated, please use reduction='mean' instead.\n",
      "  warnings.warn(warning.format(ret))\n"
     ]
    }
   ],
   "source": [
    "device = torch.device(\"cuda:0\" if torch.cuda.is_available() else \"cpu\")\n",
    "model=LSTM(hidden_size, num_layers, output_size, batch_size).to(device)\n",
    "loss_function = nn.MSELoss(reduce=True, size_average=True).to(device)\n",
    "optimizer = torch.optim.Adam(model.parameters(), lr=0.001)  # 建立优化器实例\n",
    "epochs = 50\n",
    "loss_list = []"
   ]
  },
  {
   "cell_type": "code",
   "execution_count": 6,
   "metadata": {},
   "outputs": [
    {
     "name": "stdout",
     "output_type": "stream",
     "text": [
      "epoch:  0 loss:0.64276056 time:3.875636339187622\n",
      "epoch:  1 loss:0.04276979 time:3.5156006813049316\n",
      "epoch:  2 loss:0.02497329 time:3.15057635307312\n",
      "epoch:  3 loss:0.02067327 time:2.991002321243286\n",
      "epoch:  4 loss:0.01860567 time:3.1954550743103027\n",
      "epoch:  5 loss:0.01701665 time:2.7586231231689453\n",
      "epoch:  6 loss:0.01553417 time:2.7705917358398438\n",
      "epoch:  7 loss:0.01404396 time:2.7586238384246826\n",
      "epoch:  8 loss:0.01253357 time:2.76560640335083\n",
      "epoch:  9 loss:0.01095468 time:2.773583173751831\n",
      "epoch: 10 loss:0.00947018 time:2.787574529647827\n",
      "epoch: 11 loss:0.00840847 time:2.7585954666137695\n",
      "epoch: 12 loss:0.00780188 time:2.826443672180176\n",
      "epoch: 13 loss:0.00741669 time:2.8473856449127197\n",
      "epoch: 14 loss:0.00712640 time:2.8124804496765137\n",
      "epoch: 15 loss:0.00689471 time:2.862346649169922\n",
      "epoch: 16 loss:0.00670864 time:2.7905375957489014\n",
      "epoch: 17 loss:0.00655874 time:2.809488534927368\n",
      "epoch: 18 loss:0.00643651 time:2.766602039337158\n",
      "epoch: 19 loss:0.00633521 time:2.7715890407562256\n",
      "epoch: 20 loss:0.00625019 time:2.776576519012451\n",
      "epoch: 21 loss:0.00617827 time:2.7566287517547607\n",
      "epoch: 22 loss:0.00611709 time:2.7735848426818848\n",
      "epoch: 23 loss:0.00606454 time:2.7306976318359375\n",
      "epoch: 24 loss:0.00601879 time:2.751642942428589\n",
      "epoch: 25 loss:0.00597839 time:2.742666244506836\n",
      "epoch: 26 loss:0.00594240 time:2.7566704750061035\n",
      "epoch: 27 loss:0.00591034 time:2.779527187347412\n",
      "epoch: 28 loss:0.00588211 time:2.760617971420288\n",
      "epoch: 29 loss:0.00585775 time:2.812480926513672\n",
      "epoch: 30 loss:0.00583710 time:2.8234503269195557\n",
      "epoch: 31 loss:0.00581944 time:2.779567003250122\n",
      "epoch: 32 loss:0.00580321 time:2.782560110092163\n",
      "epoch: 33 loss:0.00578663 time:2.8054983615875244\n",
      "epoch: 34 loss:0.00577000 time:2.7416703701019287\n",
      "epoch: 35 loss:0.00575307 time:2.7965474128723145\n",
      "epoch: 36 loss:0.00573624 time:2.740647315979004\n",
      "epoch: 37 loss:0.00571986 time:2.800510883331299\n",
      "epoch: 38 loss:0.00570394 time:2.749648094177246\n",
      "epoch: 39 loss:0.00568840 time:2.767627477645874\n",
      "epoch: 40 loss:0.00567319 time:2.770564079284668\n",
      "epoch: 41 loss:0.00565827 time:2.7755792140960693\n",
      "epoch: 42 loss:0.00564359 time:2.7855517864227295\n",
      "epoch: 43 loss:0.00562913 time:2.7516698837280273\n",
      "epoch: 44 loss:0.00561487 time:2.7805681228637695\n",
      "epoch: 45 loss:0.00560081 time:2.767568826675415\n",
      "epoch: 46 loss:0.00558697 time:2.783557176589966\n",
      "epoch: 47 loss:0.00557344 time:2.7616164684295654\n",
      "epoch: 48 loss:0.00556029 time:2.777573347091675\n",
      "epoch: 49 loss:0.00554764 time:2.8264427185058594\n"
     ]
    }
   ],
   "source": [
    "for i in range(epochs):\n",
    "    start = time.time()\n",
    "    loss_all = 0\n",
    "    num = 0\n",
    "    for seq_batch, label_batch in train_loader:\n",
    "        seq_batch,label_batch = seq_batch.to(device),label_batch.to(device)\n",
    "        optimizer.zero_grad()\n",
    "        y_pred = model(seq_batch)\n",
    "        loss = 0\n",
    "        for j in range(3):\n",
    "            loss += loss_function(y_pred[:,:, j], label_batch[:, :, j])\n",
    "        loss /= 3\n",
    "\n",
    "        loss.backward()  # 调用loss.backward()自动生成梯度，\n",
    "        optimizer.step()  # 使用optimizer.step()执行优化器，把梯度传播回每个网络\n",
    "        loss_all += loss.item()\n",
    "        num += 1\n",
    "        # 查看模型训练的结果\n",
    "    loss_all /= num\n",
    "    loss_list.append(loss_all)\n",
    "    print(f'epoch:{i:3} loss:{loss_all:10.8f} time:{time.time() - start:6}')"
   ]
  },
  {
   "attachments": {},
   "cell_type": "markdown",
   "metadata": {},
   "source": [
    "## 保存模型"
   ]
  },
  {
   "cell_type": "code",
   "execution_count": 7,
   "metadata": {},
   "outputs": [],
   "source": [
    "torch.save(model.state_dict(), \"./save/model_parameter.pkl\")"
   ]
  },
  {
   "attachments": {},
   "cell_type": "markdown",
   "metadata": {},
   "source": [
    "## 模型预测"
   ]
  },
  {
   "cell_type": "code",
   "execution_count": 8,
   "metadata": {},
   "outputs": [
    {
     "data": {
      "text/plain": [
       "<All keys matched successfully>"
      ]
     },
     "execution_count": 8,
     "metadata": {},
     "output_type": "execute_result"
    }
   ],
   "source": [
    "import torch.nn as nn\n",
    "import torch\n",
    "from model import LSTM\n",
    "batch_size=1 #批次数\n",
    "hidden_size = 64\n",
    "num_layers = 2\n",
    "output_size = 1\n",
    "device = torch.device(\"cuda:0\" if torch.cuda.is_available() else \"cpu\")\n",
    "model=LSTM(hidden_size, num_layers, output_size, batch_size).to(device) \n",
    "model.load_state_dict(torch.load(\"./save/model_parameter.pkl\"))    # 加载模型参数  \n",
    "  "
   ]
  },
  {
   "cell_type": "code",
   "execution_count": 9,
   "metadata": {},
   "outputs": [
    {
     "data": {
      "text/plain": [
       "tensor([[[4.7428e+30, 4.0092e-08, 3.8472e-11],\n",
       "         [2.6339e+20, 1.7034e+28, 3.0478e+32],\n",
       "         [1.4580e-19, 7.3313e+22, 1.8471e+25]]], device='cuda:0')"
      ]
     },
     "execution_count": 9,
     "metadata": {},
     "output_type": "execute_result"
    }
   ],
   "source": [
    "input=torch.Tensor(1,3,3).cuda()\n",
    "input"
   ]
  },
  {
   "cell_type": "code",
   "execution_count": 10,
   "metadata": {},
   "outputs": [
    {
     "name": "stdout",
     "output_type": "stream",
     "text": [
      "[ 0.43543684 -0.41669905  3.2352529 ]\n"
     ]
    }
   ],
   "source": [
    "def model_predict(input):\n",
    "    with torch.no_grad():\n",
    "        return model(input)[0][0].cpu().numpy()\n",
    "print(model_predict(input))"
   ]
  },
  {
   "cell_type": "code",
   "execution_count": null,
   "metadata": {},
   "outputs": [],
   "source": []
  }
 ],
 "metadata": {
  "kernelspec": {
   "display_name": "torch",
   "language": "python",
   "name": "python3"
  },
  "language_info": {
   "codemirror_mode": {
    "name": "ipython",
    "version": 3
   },
   "file_extension": ".py",
   "mimetype": "text/x-python",
   "name": "python",
   "nbconvert_exporter": "python",
   "pygments_lexer": "ipython3",
   "version": "3.10.4"
  },
  "orig_nbformat": 4,
  "vscode": {
   "interpreter": {
    "hash": "7c291e190472dd5ae23ff311fbbec1593e3cffd3cf2e0fe6e8a96d9379ed9f03"
   }
  }
 },
 "nbformat": 4,
 "nbformat_minor": 2
}
