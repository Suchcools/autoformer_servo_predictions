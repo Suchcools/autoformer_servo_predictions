{
 "cells": [
  {
   "cell_type": "code",
   "execution_count": 1,
   "metadata": {},
   "outputs": [
    {
     "data": {
      "text/html": [
       "<div>\n",
       "<style scoped>\n",
       "    .dataframe tbody tr th:only-of-type {\n",
       "        vertical-align: middle;\n",
       "    }\n",
       "\n",
       "    .dataframe tbody tr th {\n",
       "        vertical-align: top;\n",
       "    }\n",
       "\n",
       "    .dataframe thead th {\n",
       "        text-align: right;\n",
       "    }\n",
       "</style>\n",
       "<table border=\"1\" class=\"dataframe\">\n",
       "  <thead>\n",
       "    <tr style=\"text-align: right;\">\n",
       "      <th></th>\n",
       "      <th>date</th>\n",
       "      <th>single</th>\n",
       "      <th>accumulate</th>\n",
       "      <th>y1</th>\n",
       "      <th>y2</th>\n",
       "      <th>y3</th>\n",
       "    </tr>\n",
       "  </thead>\n",
       "  <tbody>\n",
       "    <tr>\n",
       "      <th>0</th>\n",
       "      <td>1663286400000000000</td>\n",
       "      <td>0.0</td>\n",
       "      <td>391.9</td>\n",
       "      <td>4.1</td>\n",
       "      <td>-7.2</td>\n",
       "      <td>8.3</td>\n",
       "    </tr>\n",
       "    <tr>\n",
       "      <th>1</th>\n",
       "      <td>1663200000000000000</td>\n",
       "      <td>0.0</td>\n",
       "      <td>391.9</td>\n",
       "      <td>3.8</td>\n",
       "      <td>-7.8</td>\n",
       "      <td>8.7</td>\n",
       "    </tr>\n",
       "    <tr>\n",
       "      <th>2</th>\n",
       "      <td>1663113600000000000</td>\n",
       "      <td>0.0</td>\n",
       "      <td>391.9</td>\n",
       "      <td>3.9</td>\n",
       "      <td>-9.4</td>\n",
       "      <td>10.2</td>\n",
       "    </tr>\n",
       "    <tr>\n",
       "      <th>3</th>\n",
       "      <td>1663027200000000000</td>\n",
       "      <td>0.0</td>\n",
       "      <td>391.9</td>\n",
       "      <td>3.9</td>\n",
       "      <td>-9.3</td>\n",
       "      <td>10.1</td>\n",
       "    </tr>\n",
       "    <tr>\n",
       "      <th>4</th>\n",
       "      <td>1662940800000000000</td>\n",
       "      <td>0.0</td>\n",
       "      <td>391.9</td>\n",
       "      <td>4.0</td>\n",
       "      <td>-8.3</td>\n",
       "      <td>9.2</td>\n",
       "    </tr>\n",
       "    <tr>\n",
       "      <th>5</th>\n",
       "      <td>1662854400000000000</td>\n",
       "      <td>0.0</td>\n",
       "      <td>391.9</td>\n",
       "      <td>4.0</td>\n",
       "      <td>-7.5</td>\n",
       "      <td>8.5</td>\n",
       "    </tr>\n",
       "    <tr>\n",
       "      <th>6</th>\n",
       "      <td>1662768000000000000</td>\n",
       "      <td>0.0</td>\n",
       "      <td>391.9</td>\n",
       "      <td>4.2</td>\n",
       "      <td>-8.1</td>\n",
       "      <td>9.1</td>\n",
       "    </tr>\n",
       "    <tr>\n",
       "      <th>7</th>\n",
       "      <td>1662681600000000000</td>\n",
       "      <td>0.0</td>\n",
       "      <td>391.9</td>\n",
       "      <td>3.5</td>\n",
       "      <td>-7.4</td>\n",
       "      <td>8.2</td>\n",
       "    </tr>\n",
       "    <tr>\n",
       "      <th>8</th>\n",
       "      <td>1662595200000000000</td>\n",
       "      <td>0.0</td>\n",
       "      <td>391.9</td>\n",
       "      <td>4.1</td>\n",
       "      <td>-7.9</td>\n",
       "      <td>8.9</td>\n",
       "    </tr>\n",
       "    <tr>\n",
       "      <th>9</th>\n",
       "      <td>1662508800000000000</td>\n",
       "      <td>0.0</td>\n",
       "      <td>391.9</td>\n",
       "      <td>3.8</td>\n",
       "      <td>-9.2</td>\n",
       "      <td>10.0</td>\n",
       "    </tr>\n",
       "  </tbody>\n",
       "</table>\n",
       "</div>"
      ],
      "text/plain": [
       "                  date  single  accumulate   y1   y2    y3\n",
       "0  1663286400000000000     0.0       391.9  4.1 -7.2   8.3\n",
       "1  1663200000000000000     0.0       391.9  3.8 -7.8   8.7\n",
       "2  1663113600000000000     0.0       391.9  3.9 -9.4  10.2\n",
       "3  1663027200000000000     0.0       391.9  3.9 -9.3  10.1\n",
       "4  1662940800000000000     0.0       391.9  4.0 -8.3   9.2\n",
       "5  1662854400000000000     0.0       391.9  4.0 -7.5   8.5\n",
       "6  1662768000000000000     0.0       391.9  4.2 -8.1   9.1\n",
       "7  1662681600000000000     0.0       391.9  3.5 -7.4   8.2\n",
       "8  1662595200000000000     0.0       391.9  4.1 -7.9   8.9\n",
       "9  1662508800000000000     0.0       391.9  3.8 -9.2  10.0"
      ]
     },
     "execution_count": 1,
     "metadata": {},
     "output_type": "execute_result"
    }
   ],
   "source": [
    "# 导入必要的库\n",
    "import torch\n",
    "import torch.nn as nn\n",
    "import numpy as np\n",
    "import pandas as pd\n",
    "import matplotlib.pyplot as plt\n",
    "import joblib\n",
    "from sklearn.model_selection import train_test_split\n",
    "\n",
    "# 加载数据\n",
    "rawdata = pd.read_csv('./dataset/rawdata.csv')\n",
    "rawdata['date']=pd.to_numeric(pd.to_datetime(rawdata['date']))\n",
    "data = rawdata.values.astype('float32')\n",
    "rawdata.head(10)"
   ]
  },
  {
   "cell_type": "code",
   "execution_count": 2,
   "metadata": {},
   "outputs": [
    {
     "data": {
      "text/plain": [
       "array([[ 4.2, -8.1,  9.1]], dtype=float32)"
      ]
     },
     "execution_count": 2,
     "metadata": {},
     "output_type": "execute_result"
    }
   ],
   "source": [
    "input_window = 6\n",
    "output_window = 1\n",
    "data[input_window:input_window+output_window][:,-3:]"
   ]
  },
  {
   "attachments": {},
   "cell_type": "markdown",
   "metadata": {},
   "source": [
    "### 归一化和反归一化"
   ]
  },
  {
   "cell_type": "code",
   "execution_count": 3,
   "metadata": {},
   "outputs": [
    {
     "data": {
      "text/plain": [
       "['scaler.pkl']"
      ]
     },
     "execution_count": 3,
     "metadata": {},
     "output_type": "execute_result"
    }
   ],
   "source": [
    "from sklearn.preprocessing import MinMaxScaler\n",
    "\n",
    "# 创建MinMaxScaler对象\n",
    "scaler = MinMaxScaler()\n",
    "# 归一化数据\n",
    "data = scaler.fit_transform(data)\n",
    "joblib.dump(scaler,'scaler.pkl')\n",
    "# # 反归一化数据\n",
    "# X_original = scaler.inverse_transform(X_normalized)\n"
   ]
  },
  {
   "attachments": {},
   "cell_type": "markdown",
   "metadata": {},
   "source": [
    "### 滑动窗口切分时间序列"
   ]
  },
  {
   "cell_type": "code",
   "execution_count": 4,
   "metadata": {},
   "outputs": [],
   "source": [
    "# 滑动窗口大小\n",
    "input_window = 6\n",
    "output_window = 1\n",
    "x=[]\n",
    "y=[]\n",
    "# 创建滑动窗口\n",
    "dataset = []\n",
    "for i in range(len(data) - (input_window+output_window)):\n",
    "    x.append(data[i:i+input_window])\n",
    "    y.append(data[i+input_window:i+input_window+output_window][:,-3:])"
   ]
  },
  {
   "attachments": {},
   "cell_type": "markdown",
   "metadata": {},
   "source": [
    "### 划分数据集"
   ]
  },
  {
   "cell_type": "code",
   "execution_count": 5,
   "metadata": {},
   "outputs": [],
   "source": [
    "train_X, test_X, train_Y, test_Y = train_test_split(x, y, test_size=0.2, random_state=42)\n",
    "# 转换为张量\n",
    "train_X = torch.from_numpy(np.array(train_X)).float()\n",
    "train_Y = torch.from_numpy(np.array(train_Y)).float()\n",
    "test_X = torch.from_numpy(np.array(test_X)).float()\n",
    "test_Y = torch.from_numpy(np.array(test_Y)).float()"
   ]
  },
  {
   "cell_type": "code",
   "execution_count": 6,
   "metadata": {},
   "outputs": [],
   "source": [
    "loss_lst=[]"
   ]
  },
  {
   "cell_type": "code",
   "execution_count": 7,
   "metadata": {},
   "outputs": [
    {
     "name": "stderr",
     "output_type": "stream",
     "text": [
      "/home/linjw/anaconda3/envs/biobase/lib/python3.9/site-packages/torch/nn/modules/loss.py:520: UserWarning: Using a target size (torch.Size([350, 1, 3])) that is different to the input size (torch.Size([350, 3])). This will likely lead to incorrect results due to broadcasting. Please ensure they have the same size.\n",
      "  return F.mse_loss(input, target, reduction=self.reduction)\n"
     ]
    },
    {
     "name": "stdout",
     "output_type": "stream",
     "text": [
      "Epoch [1/100], Loss: 0.3349\n",
      "Epoch [2/100], Loss: 0.3259\n",
      "Epoch [3/100], Loss: 0.3170\n",
      "Epoch [4/100], Loss: 0.3083\n",
      "Epoch [5/100], Loss: 0.2997\n",
      "Epoch [6/100], Loss: 0.2911\n",
      "Epoch [7/100], Loss: 0.2827\n",
      "Epoch [8/100], Loss: 0.2743\n",
      "Epoch [9/100], Loss: 0.2660\n",
      "Epoch [10/100], Loss: 0.2577\n",
      "Epoch [11/100], Loss: 0.2495\n",
      "Epoch [12/100], Loss: 0.2412\n",
      "Epoch [13/100], Loss: 0.2330\n",
      "Epoch [14/100], Loss: 0.2247\n",
      "Epoch [15/100], Loss: 0.2163\n",
      "Epoch [16/100], Loss: 0.2080\n",
      "Epoch [17/100], Loss: 0.1995\n",
      "Epoch [18/100], Loss: 0.1910\n",
      "Epoch [19/100], Loss: 0.1824\n",
      "Epoch [20/100], Loss: 0.1738\n",
      "Epoch [21/100], Loss: 0.1651\n",
      "Epoch [22/100], Loss: 0.1563\n",
      "Epoch [23/100], Loss: 0.1475\n",
      "Epoch [24/100], Loss: 0.1387\n",
      "Epoch [25/100], Loss: 0.1299\n",
      "Epoch [26/100], Loss: 0.1212\n",
      "Epoch [27/100], Loss: 0.1126\n",
      "Epoch [28/100], Loss: 0.1043\n",
      "Epoch [29/100], Loss: 0.0963\n",
      "Epoch [30/100], Loss: 0.0886\n",
      "Epoch [31/100], Loss: 0.0816\n",
      "Epoch [32/100], Loss: 0.0751\n",
      "Epoch [33/100], Loss: 0.0695\n",
      "Epoch [34/100], Loss: 0.0646\n",
      "Epoch [35/100], Loss: 0.0607\n",
      "Epoch [36/100], Loss: 0.0577\n",
      "Epoch [37/100], Loss: 0.0554\n",
      "Epoch [38/100], Loss: 0.0539\n",
      "Epoch [39/100], Loss: 0.0528\n",
      "Epoch [40/100], Loss: 0.0521\n",
      "Epoch [41/100], Loss: 0.0515\n",
      "Epoch [42/100], Loss: 0.0509\n",
      "Epoch [43/100], Loss: 0.0503\n",
      "Epoch [44/100], Loss: 0.0495\n",
      "Epoch [45/100], Loss: 0.0487\n",
      "Epoch [46/100], Loss: 0.0478\n",
      "Epoch [47/100], Loss: 0.0469\n",
      "Epoch [48/100], Loss: 0.0461\n",
      "Epoch [49/100], Loss: 0.0454\n",
      "Epoch [50/100], Loss: 0.0449\n",
      "Epoch [51/100], Loss: 0.0445\n",
      "Epoch [52/100], Loss: 0.0442\n",
      "Epoch [53/100], Loss: 0.0441\n",
      "Epoch [54/100], Loss: 0.0441\n",
      "Epoch [55/100], Loss: 0.0441\n",
      "Epoch [56/100], Loss: 0.0442\n",
      "Epoch [57/100], Loss: 0.0442\n",
      "Epoch [58/100], Loss: 0.0442\n",
      "Epoch [59/100], Loss: 0.0442\n",
      "Epoch [60/100], Loss: 0.0441\n",
      "Epoch [61/100], Loss: 0.0439\n",
      "Epoch [62/100], Loss: 0.0437\n",
      "Epoch [63/100], Loss: 0.0435\n",
      "Epoch [64/100], Loss: 0.0432\n",
      "Epoch [65/100], Loss: 0.0429\n",
      "Epoch [66/100], Loss: 0.0426\n",
      "Epoch [67/100], Loss: 0.0424\n",
      "Epoch [68/100], Loss: 0.0421\n",
      "Epoch [69/100], Loss: 0.0419\n",
      "Epoch [70/100], Loss: 0.0417\n",
      "Epoch [71/100], Loss: 0.0416\n",
      "Epoch [72/100], Loss: 0.0415\n",
      "Epoch [73/100], Loss: 0.0414\n",
      "Epoch [74/100], Loss: 0.0414\n",
      "Epoch [75/100], Loss: 0.0413\n",
      "Epoch [76/100], Loss: 0.0413\n",
      "Epoch [77/100], Loss: 0.0413\n",
      "Epoch [78/100], Loss: 0.0413\n",
      "Epoch [79/100], Loss: 0.0412\n",
      "Epoch [80/100], Loss: 0.0412\n",
      "Epoch [81/100], Loss: 0.0411\n",
      "Epoch [82/100], Loss: 0.0411\n",
      "Epoch [83/100], Loss: 0.0410\n",
      "Epoch [84/100], Loss: 0.0409\n",
      "Epoch [85/100], Loss: 0.0409\n",
      "Epoch [86/100], Loss: 0.0408\n",
      "Epoch [87/100], Loss: 0.0407\n",
      "Epoch [88/100], Loss: 0.0407\n",
      "Epoch [89/100], Loss: 0.0406\n",
      "Epoch [90/100], Loss: 0.0406\n",
      "Epoch [91/100], Loss: 0.0406\n",
      "Epoch [92/100], Loss: 0.0405\n",
      "Epoch [93/100], Loss: 0.0405\n",
      "Epoch [94/100], Loss: 0.0405\n",
      "Epoch [95/100], Loss: 0.0404\n",
      "Epoch [96/100], Loss: 0.0404\n",
      "Epoch [97/100], Loss: 0.0404\n",
      "Epoch [98/100], Loss: 0.0403\n",
      "Epoch [99/100], Loss: 0.0403\n",
      "Epoch [100/100], Loss: 0.0403\n"
     ]
    }
   ],
   "source": [
    "\n",
    "# 定义 LSTM 模型\n",
    "class LSTMModel(nn.Module):\n",
    "    def __init__(self, input_size, hidden_size, num_layers, output_size):\n",
    "        super().__init__()\n",
    "        self.hidden_size = hidden_size\n",
    "        self.num_layers = num_layers\n",
    "        self.lstm = nn.LSTM(input_size, hidden_size, num_layers, batch_first=True)\n",
    "        self.fc = nn.Linear(hidden_size, output_size)\n",
    "        \n",
    "    def forward(self, x):\n",
    "        h0 = torch.zeros(self.num_layers, x.size(0), self.hidden_size).requires_grad_()\n",
    "        c0 = torch.zeros(self.num_layers, x.size(0), self.hidden_size).requires_grad_()\n",
    "        out, (hn, cn) = self.lstm(x, (h0.detach(), c0.detach()))\n",
    "        out = self.fc(out[:, -1, :])\n",
    "        return out\n",
    "\n",
    "# 定义超参数\n",
    "input_size = 6\n",
    "hidden_size = 32\n",
    "num_layers = 1\n",
    "output_size = 3\n",
    "learning_rate = 0.001\n",
    "num_epochs = 100\n",
    "loss_item = []\n",
    "# 初始化模型\n",
    "model = LSTMModel(input_size, hidden_size, num_layers, output_size)\n",
    "\n",
    "# 定义损失函数和优化器\n",
    "criterion = nn.MSELoss()\n",
    "optimizer = torch.optim.Adam(model.parameters(), lr=learning_rate)\n",
    "\n",
    "# 训练模型\n",
    "for epoch in range(num_epochs):\n",
    "    # 前向传播\n",
    "    outputs = model(train_X)\n",
    "    loss = criterion(outputs, train_Y)\n",
    "    # 反向传播并优化\n",
    "    optimizer.zero_grad()\n",
    "    loss.backward()\n",
    "    optimizer.step()\n",
    "    loss_item.append(loss.item())\n",
    "    print('Epoch [{}/{}], Loss: {:.4f}'.format(epoch+1, num_epochs, loss.item()))\n",
    "loss_lst.append(loss_item)"
   ]
  },
  {
   "cell_type": "code",
   "execution_count": 8,
   "metadata": {},
   "outputs": [],
   "source": [
    "# import matplotlib.pyplot as plt\n",
    "\n",
    "# # 创建x轴的数据，假设loss_list长度为1000\n",
    "# x = range(len(loss_item))\n",
    "\n",
    "# # 画图\n",
    "# plt.plot(x, loss_lst[0], lw=2,label='Learn Rate = 0.0001')\n",
    "# plt.plot(x, loss_lst[1],lw=2, label='Learn Rate = 0.001')\n",
    "# plt.plot(x, loss_lst[2],lw=2, label='Learn Rate = 0.01')\n",
    "\n",
    "# # 设置图像的标题和轴标签\n",
    "# plt.title('LSTM Loss Curve')\n",
    "# plt.xlabel('Epoch')\n",
    "# plt.ylabel('Loss')\n",
    "# # 显示图例\n",
    "# plt.legend()\n",
    "# # 显示图像\n",
    "# plt.show()\n"
   ]
  },
  {
   "attachments": {},
   "cell_type": "markdown",
   "metadata": {},
   "source": [
    "### 模型测试"
   ]
  },
  {
   "cell_type": "code",
   "execution_count": 9,
   "metadata": {},
   "outputs": [],
   "source": [
    "# 测试模型\n",
    "model.eval()\n",
    "outputs = model(test_X)"
   ]
  },
  {
   "cell_type": "code",
   "execution_count": 10,
   "metadata": {},
   "outputs": [
    {
     "data": {
      "image/png": "[encoded data removed]",
      "text/plain": [
       "<Figure size 432x288 with 1 Axes>"
      ]
     },
     "metadata": {
      "needs_background": "light"
     },
     "output_type": "display_data"
    }
   ],
   "source": [
    "import matplotlib.pyplot as plt\n",
    "\n",
    "\n",
    "# 定义 Groundtruth 和 Predict 数据\n",
    "gt = np.squeeze(test_Y, axis=1)\n",
    "pred = outputs.detach().cpu().numpy()\n",
    "\n",
    "plt.plot([x[2] for x in gt], c='g',label='y3')\n",
    "plt.plot([x[2] for x in pred],c='r',label='y3')\n",
    "\n",
    "# 添加图例和标签\n",
    "plt.legend(loc='best')\n",
    "plt.xlabel('x')\n",
    "plt.ylabel('y')\n",
    "plt.show()\n"
   ]
  },
  {
   "cell_type": "code",
   "execution_count": 18,
   "metadata": {},
   "outputs": [],
   "source": [
    "import numpy as np\n",
    "from sklearn.metrics import mean_absolute_error, mean_squared_error\n",
    "true=np.array([x[2]*4 for x in gt])\n",
    "ypre=np.array([x[2]*4 for x in pred])\n",
    "# 平均绝对误差（MAE）\n",
    "mae = mean_absolute_error(true, ypre)\n",
    "\n",
    "# 均方误差（MSE）\n",
    "mse = mean_squared_error(true, ypre)\n",
    "\n",
    "# 均方根误差（RMSE）\n",
    "rmse = np.sqrt(mse)\n",
    "\n",
    "# 平均绝对百分比误差（MAPE）\n",
    "mape = np.mean(np.abs((true - ypre) / np.maximum(np.abs(true), 1e-8))) * 100\n",
    "\n",
    "# 平均平方百分比误差（MSPE）\n",
    "mspe = np.mean(np.square((true - ypre) / np.maximum(np.abs(true), 1e-8))) * 100\n"
   ]
  },
  {
   "cell_type": "code",
   "execution_count": 19,
   "metadata": {},
   "outputs": [
    {
     "data": {
      "text/html": [
       "<div>\n",
       "<style scoped>\n",
       "    .dataframe tbody tr th:only-of-type {\n",
       "        vertical-align: middle;\n",
       "    }\n",
       "\n",
       "    .dataframe tbody tr th {\n",
       "        vertical-align: top;\n",
       "    }\n",
       "\n",
       "    .dataframe thead th {\n",
       "        text-align: right;\n",
       "    }\n",
       "</style>\n",
       "<table border=\"1\" class=\"dataframe\">\n",
       "  <thead>\n",
       "    <tr style=\"text-align: right;\">\n",
       "      <th></th>\n",
       "      <th>MAE</th>\n",
       "      <th>MSE</th>\n",
       "      <th>RMSE</th>\n",
       "      <th>MAPE</th>\n",
       "      <th>MSPE</th>\n",
       "    </tr>\n",
       "  </thead>\n",
       "  <tbody>\n",
       "    <tr>\n",
       "      <th>0</th>\n",
       "      <td>0.760749</td>\n",
       "      <td>0.887397</td>\n",
       "      <td>0.942018</td>\n",
       "      <td>1.520883e+08</td>\n",
       "      <td>2.035510e+16</td>\n",
       "    </tr>\n",
       "  </tbody>\n",
       "</table>\n",
       "</div>"
      ],
      "text/plain": [
       "        MAE       MSE      RMSE          MAPE          MSPE\n",
       "0  0.760749  0.887397  0.942018  1.520883e+08  2.035510e+16"
      ]
     },
     "execution_count": 19,
     "metadata": {},
     "output_type": "execute_result"
    }
   ],
   "source": [
    "# 创建DataFrame\n",
    "df = pd.DataFrame({\n",
    "    'MAE': [mae],\n",
    "    'MSE': [mse],\n",
    "    'RMSE': [rmse],\n",
    "    'MAPE': [mape],\n",
    "    'MSPE': [mspe]\n",
    "})\n",
    "df"
   ]
  },
  {
   "cell_type": "code",
   "execution_count": null,
   "metadata": {},
   "outputs": [],
   "source": []
  }
 ],
 "metadata": {
  "kernelspec": {
   "display_name": "biobase",
   "language": "python",
   "name": "python3"
  },
  "language_info": {
   "codemirror_mode": {
    "name": "ipython",
    "version": 3
   },
   "file_extension": ".py",
   "mimetype": "text/x-python",
   "name": "python",
   "nbconvert_exporter": "python",
   "pygments_lexer": "ipython3",
   "version": "3.9.12"
  },
  "orig_nbformat": 4,
  "vscode": {
   "interpreter": {
    "hash": "c4342b7b77d03aa170c0061ccc2d89deb9ee932a6281860c89ed54b64e098c02"
   }
  }
 },
 "nbformat": 4,
 "nbformat_minor": 2
}
